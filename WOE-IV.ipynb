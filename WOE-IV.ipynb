{
 "cells": [
  {
   "cell_type": "code",
   "execution_count": 22,
   "metadata": {},
   "outputs": [],
   "source": [
    "import re\n",
    "import math\n",
    "import numpy as np\n",
    "import pandas as pd\n",
    "import matplotlib.pyplot as plt\n",
    "import seaborn as sns\n",
    "import warnings\n",
    "warnings.filterwarnings('ignore')\n",
    "from sklearn.ensemble import RandomForestRegressor\n",
    "from scipy import stats\n",
    "from pandas import Series\n",
    "import statsmodels.api as sm\n",
    "from sklearn.metrics import roc_curve\n",
    "from sklearn.metrics import auc\n",
    "from sklearn.linear_model.logistic import LogisticRegression\n",
    "from sklearn.tree import DecisionTreeClassifier\n",
    "from sklearn.model_selection import train_test_split, learning_curve\n",
    "from sklearn.metrics import roc_auc_score\n",
    "from sklearn.metrics import average_precision_score\n",
    "from xgboost.sklearn import XGBClassifier\n",
    "from xgboost import plot_importance,plot_tree,to_graphviz\n"
   ]
  },
  {
   "cell_type": "code",
   "execution_count": 28,
   "metadata": {},
   "outputs": [
    {
     "name": "stdout",
     "output_type": "stream",
     "text": [
      "<class 'pandas.core.frame.DataFrame'>\n",
      "RangeIndex: 145344 entries, 0 to 145343\n",
      "Data columns (total 11 columns):\n",
      "SeriousDlqin2yrs                        145344 non-null int64\n",
      "age                                     145344 non-null int64\n",
      "NumberOfDependents                      145344 non-null float64\n",
      "MonthlyIncome                           145344 non-null float64\n",
      "DebtRatio                               145344 non-null float64\n",
      "RevolvingUtilizationOfUnsecuredLines    145344 non-null float64\n",
      "NumberOfOpenCreditLinesAndLoans         145344 non-null int64\n",
      "NumberRealEstateLoansOrLines            145344 non-null int64\n",
      "NumberOfTime30-59DaysPastDueNotWorse    145344 non-null int64\n",
      "NumberOfTime60-89DaysPastDueNotWorse    145344 non-null int64\n",
      "NumberOfTimes90DaysLate                 145344 non-null int64\n",
      "dtypes: float64(4), int64(7)\n",
      "memory usage: 12.2 MB\n",
      "None\n",
      "训练集大小： (101740, 10) (101740,)\n",
      "测试集大小： (43604, 10) (43604,)\n"
     ]
    }
   ],
   "source": [
    "data = pd.read_csv('D:/statistics/machine learning in action/GiveMeSomeCredit/data.csv')\n",
    "print(data.info())\n",
    "y=data.ix[:,0]\n",
    "x=data.ix[:,1:]\n",
    "X_train, X_test, y_train, y_test = train_test_split(x,y, test_size=0.3, random_state=0) \n",
    "print('训练集大小：',X_train.shape,y_train.shape)  # 训练集样本大小\n",
    "print('测试集大小：',X_test.shape,y_test.shape)  # 测试集样本大小\n"
   ]
  },
  {
   "cell_type": "code",
   "execution_count": 24,
   "metadata": {},
   "outputs": [],
   "source": [
    "# 决策树分箱\n",
    "def optimal_binning_boundary(x: pd.Series, y: pd.Series, nan: float = -999.) -> list:\n",
    "    '''\n",
    "        利用决策树获得最优分箱的边界值列表\n",
    "    '''\n",
    "    boundary = []  # 待return的分箱边界值列表\n",
    "    \n",
    "    x = x.fillna(nan).values  # 填充缺失值\n",
    "    y = y.values\n",
    "    \n",
    "    clf = DecisionTreeClassifier(criterion='entropy',    #“信息熵”最小化准则划分\n",
    "                                 max_leaf_nodes=6,       # 最大叶子节点数\n",
    "                                 min_samples_leaf=0.05)  # 叶子节点样本数量最小占比\n",
    "\n",
    "    clf.fit(x.reshape(-1, 1), y)  # 训练决策树\n",
    "    \n",
    "    n_nodes = clf.tree_.node_count\n",
    "    children_left = clf.tree_.children_left\n",
    "    children_right = clf.tree_.children_right\n",
    "    threshold = clf.tree_.threshold\n",
    "    \n",
    "    for i in range(n_nodes):\n",
    "        if children_left[i] != children_right[i]:  # 获得决策树节点上的划分边界值\n",
    "            boundary.append(threshold[i])\n",
    "\n",
    "    boundary.sort()\n",
    "\n",
    "    min_x = x.min()\n",
    "    max_x = x.max() + 0.1  # +0.1是为了考虑后续groupby操作时，能包含特征最大值的样本\n",
    "    boundary = [min_x] + boundary + [max_x]\n",
    "\n",
    "    return boundary"
   ]
  },
  {
   "cell_type": "code",
   "execution_count": 18,
   "metadata": {},
   "outputs": [
    {
     "name": "stdout",
     "output_type": "stream",
     "text": [
      "[0.0, 0.18586817383766174, 0.3008972406387329, 0.49497613310813904, 0.6981423199176788, 0.8596274554729462, 50708.1]\n"
     ]
    }
   ],
   "source": [
    "print(optimal_binning_boundary(x.RevolvingUtilizationOfUnsecuredLines,y))"
   ]
  },
  {
   "cell_type": "code",
   "execution_count": 25,
   "metadata": {},
   "outputs": [],
   "source": [
    "def feature_woe_iv(x: pd.Series, y: pd.Series, nan: float = -999.) -> pd.DataFrame:\n",
    "    '''\n",
    "        计算变量各个分箱的WOE、IV值，返回一个DataFrame\n",
    "    '''\n",
    "    x = x.fillna(nan)\n",
    "    boundary = optimal_binning_boundary(x, y, nan)        # 获得最优分箱边界值列表\n",
    "    df = pd.concat([x, y], axis=1)                        # 合并x、y为一个DataFrame，方便后续计算\n",
    "    df.columns = ['x', 'y']                               # 特征变量、目标变量字段的重命名\n",
    "    df['bins'] = pd.cut(x=x, bins=boundary, right=False)  # 获得每个x值所在的分箱区间\n",
    "    \n",
    "    grouped = df.groupby('bins')['y']                     # 统计各分箱区间的好、坏、总客户数量\n",
    "    result_df = grouped.agg([('good',  lambda y: (y == 0).sum()), \n",
    "                             ('bad',   lambda y: (y == 1).sum()),\n",
    "                             ('total', 'count')])\n",
    "\n",
    "    result_df['good_pct'] = result_df['good'] / result_df['good'].sum()       # 好客户占比\n",
    "    result_df['bad_pct'] = result_df['bad'] / result_df['bad'].sum()          # 坏客户占比\n",
    "    result_df['total_pct'] = result_df['total'] / result_df['total'].sum()    # 总客户占比\n",
    "\n",
    "    result_df['bad_rate'] = result_df['bad'] / result_df['total']             # 坏比率\n",
    "    \n",
    "    result_df['woe'] = np.log(result_df['good_pct'] / result_df['bad_pct'])              # WOE\n",
    "    result_df['iv'] = (result_df['good_pct'] - result_df['bad_pct']) * result_df['woe']  # IV\n",
    "    \n",
    "    return result_df['woe'],result_df['iv'].sum()"
   ]
  },
  {
   "cell_type": "code",
   "execution_count": 20,
   "metadata": {},
   "outputs": [
    {
     "name": "stdout",
     "output_type": "stream",
     "text": [
      "(bins\n",
      "[0.0, 0.186)       1.251399\n",
      "[0.186, 0.301)     0.620180\n",
      "[0.301, 0.495)     0.149344\n",
      "[0.495, 0.698)    -0.386545\n",
      "[0.698, 0.86)     -0.818222\n",
      "[0.86, 50708.1)   -1.363388\n",
      "Name: woe, dtype: float64, 1.072570965487935)\n"
     ]
    }
   ],
   "source": [
    "print(feature_woe_iv(x.RevolvingUtilizationOfUnsecuredLines,y))"
   ]
  },
  {
   "cell_type": "code",
   "execution_count": 29,
   "metadata": {},
   "outputs": [
    {
     "name": "stdout",
     "output_type": "stream",
     "text": [
      "['SeriousDlqin2yrs', 'age', 'NumberOfDependents', 'MonthlyIncome', 'DebtRatio', 'RevolvingUtilizationOfUnsecuredLines', 'NumberOfOpenCreditLinesAndLoans', 'NumberRealEstateLoansOrLines', 'NumberOfTime30-59DaysPastDueNotWorse', 'NumberOfTime60-89DaysPastDueNotWorse', 'NumberOfTimes90DaysLate']\n",
      "[0.24240649126453379, 0.033931422323890036, 0.09556647584773083, 0.08417339184089437, 1.072570965487935, 0.07546373681376786, 0.053407645942875434, 0.7072236175198745, 0.0, 0.8042593919465522]\n"
     ]
    },
    {
     "data": {
      "image/png": "[encoded data removed]",
      "text/plain": [
       "<Figure size 432x288 with 1 Axes>"
      ]
     },
     "metadata": {
      "needs_background": "light"
     },
     "output_type": "display_data"
    }
   ],
   "source": [
    "k=data.columns.values.tolist()\n",
    "print(k)\n",
    "k=k[1:]\n",
    "p=[]\n",
    "for i,name in enumerate(k):\n",
    "    p.append(feature_woe_iv(data[name],y)[1])\n",
    "    \n",
    "print(p)\n",
    "fig=plt.figure()\n",
    "ax1 = fig.add_subplot(1, 1, 1)\n",
    "x = np.arange(len(k))+1\n",
    "ax1.bar(x, p, width=0.4)#生成柱状图\n",
    "plt.show()"
   ]
  },
  {
   "cell_type": "code",
   "execution_count": 26,
   "metadata": {},
   "outputs": [],
   "source": [
    "#替换成woe\n",
    "def replace_woe(series,cut,woe):\n",
    "    list=[]\n",
    "    i=0\n",
    "    while i<len(series):\n",
    "        value=series[i]\n",
    "        j=len(cut)-2\n",
    "        m=len(cut)-2\n",
    "        while j>=0:\n",
    "            if value>=cut[j]:\n",
    "                j=-1\n",
    "            else:\n",
    "                j -=1\n",
    "                m -= 1\n",
    "        list.append(woe[m])\n",
    "        i += 1\n",
    "    return list\n",
    "\n",
    "\n",
    "    \n",
    "data['age'] = Series(replace_woe(data['age'],optimal_binning_boundary(x.age,y),feature_woe_iv(x.age,y)[0]))\n",
    "data['NumberOfDependents'] = Series(replace_woe(data['NumberOfDependents'], optimal_binning_boundary(x.NumberOfDependents,y), feature_woe_iv(x.NumberOfDependents,y)[0]))\n",
    "data['MonthlyIncome'] = Series(replace_woe(data['MonthlyIncome'], optimal_binning_boundary(x.MonthlyIncome,y), feature_woe_iv(x.MonthlyIncome,y)[0]))\n",
    "data['DebtRatio'] = Series(replace_woe(data['DebtRatio'], optimal_binning_boundary(x.DebtRatio,y), feature_woe_iv(x.DebtRatio,y)[0]))\n",
    "data['RevolvingUtilizationOfUnsecuredLines'] = Series(replace_woe(data['RevolvingUtilizationOfUnsecuredLines'], optimal_binning_boundary(x.RevolvingUtilizationOfUnsecuredLines,y), feature_woe_iv(x.RevolvingUtilizationOfUnsecuredLines,y)[0]))\n",
    "data['NumberOfOpenCreditLinesAndLoans'] = Series(replace_woe(data['NumberOfOpenCreditLinesAndLoans'], optimal_binning_boundary(x.NumberOfOpenCreditLinesAndLoans,y), feature_woe_iv(x.NumberOfOpenCreditLinesAndLoans,y)[0]))\n",
    "data['NumberRealEstateLoansOrLines'] = Series(replace_woe(data['NumberRealEstateLoansOrLines'], optimal_binning_boundary(x.NumberRealEstateLoansOrLines,y), feature_woe_iv(x.NumberRealEstateLoansOrLines,y)[0]))\n",
    "data['NumberOfTime30-59DaysPastDueNotWorse'] = Series(replace_woe(data['NumberOfTime30-59DaysPastDueNotWorse'], optimal_binning_boundary(x['NumberOfTime30-59DaysPastDueNotWorse'],y), feature_woe_iv(x['NumberOfTime30-59DaysPastDueNotWorse'],y)[0]))\n",
    "data['NumberOfTime60-89DaysPastDueNotWorse'] = Series(replace_woe(data['NumberOfTime60-89DaysPastDueNotWorse'], optimal_binning_boundary(x['NumberOfTime60-89DaysPastDueNotWorse'],y), feature_woe_iv(x['NumberOfTime60-89DaysPastDueNotWorse'],y)[0]))\n",
    "data['NumberOfTimes90DaysLate'] = Series(replace_woe(data['NumberOfTimes90DaysLate'], optimal_binning_boundary(x.NumberOfTimes90DaysLate,y), feature_woe_iv(x.NumberOfTimes90DaysLate,y)[0]))\n",
    "\n",
    "\n",
    "data.to_csv('WoeDatanew.csv', index=False)\n"
   ]
  },
  {
   "cell_type": "code",
   "execution_count": 32,
   "metadata": {},
   "outputs": [],
   "source": [
    "datawoe = pd.read_csv('WoeDatanew.csv')\n",
    "\n",
    "Y = datawoe['SeriousDlqin2yrs']\n",
    "X = datawoe.ix[:, 1:]\n",
    "Xnew=X.drop(['age','MonthlyIncome','NumberOfOpenCreditLinesAndLoans','NumberOfTime60-89DaysPastDueNotWorse'],axis=1)\n",
    "x_train, x_test, y_train, y_test = train_test_split(Xnew, Y, test_size=0.3, random_state=0)"
   ]
  },
  {
   "cell_type": "code",
   "execution_count": 36,
   "metadata": {},
   "outputs": [
    {
     "name": "stdout",
     "output_type": "stream",
     "text": [
      "[[76731 18218]\n",
      " [ 2094  4697]]\n",
      "              precision    recall  f1-score   support\n",
      "\n",
      "           0       0.97      0.81      0.88     94949\n",
      "           1       0.20      0.69      0.32      6791\n",
      "\n",
      "   micro avg       0.80      0.80      0.80    101740\n",
      "   macro avg       0.59      0.75      0.60    101740\n",
      "weighted avg       0.92      0.80      0.85    101740\n",
      "\n",
      "[[32806  7884]\n",
      " [  880  2034]]\n",
      "              precision    recall  f1-score   support\n",
      "\n",
      "           0       0.97      0.81      0.88     40690\n",
      "           1       0.21      0.70      0.32      2914\n",
      "\n",
      "   micro avg       0.80      0.80      0.80     43604\n",
      "   macro avg       0.59      0.75      0.60     43604\n",
      "weighted avg       0.92      0.80      0.84     43604\n",
      "\n",
      "0.8278858530432402\n"
     ]
    },
    {
     "data": {
      "image/png": "[encoded data removed]",
      "text/plain": [
       "<Figure size 432x288 with 1 Axes>"
      ]
     },
     "metadata": {
      "needs_background": "light"
     },
     "output_type": "display_data"
    }
   ],
   "source": [
    "from sklearn.metrics import confusion_matrix \n",
    "from sklearn import metrics\n",
    "\n",
    "clf_lr_best=LogisticRegression(C=10,class_weight='balanced')\n",
    "clf_lr_best.fit(x_train, y_train)\n",
    "\n",
    "y_train_pred_lr= clf_lr_best.predict(x_train)\n",
    "C1=confusion_matrix(y_train,y_train_pred_lr)\n",
    "print(C1)\n",
    "print(metrics.classification_report(y_train,y_train_pred_lr))\n",
    "\n",
    "y_test_pred_lr = clf_lr_best.predict(x_test)\n",
    "C3=confusion_matrix(y_test,y_test_pred_lr)\n",
    "print(C3)\n",
    "print(metrics.classification_report(y_test,y_test_pred_lr))\n",
    "\n",
    "y_scores=clf_lr_best.decision_function(x_test)\n",
    "fpr,tpr,threshholds=roc_curve(y_test,y_scores)\n",
    "print(roc_auc_score(y_test,y_scores))\n",
    "def plot_roc_curve(fpr,tpr,label=None):\n",
    "    plt.plot(fpr,tpr,linewidth=2,label=label)\n",
    "    plt.plot([0,1],[0,1],'k--')\n",
    "    plt.axis([0,1,0,1])\n",
    "    plt.xlabel('False Positive Rate')\n",
    "    plt.ylabel('True Positive Rate')\n",
    "\n",
    "plot_roc_curve(fpr,tpr)\n",
    "plt.show()"
   ]
  },
  {
   "cell_type": "markdown",
   "metadata": {},
   "source": [
    "## 评分卡建立"
   ]
  },
  {
   "cell_type": "code",
   "execution_count": 42,
   "metadata": {},
   "outputs": [
    {
     "name": "stdout",
     "output_type": "stream",
     "text": [
      "Optimization terminated successfully.\n",
      "         Current function value: 0.192468\n",
      "         Iterations 8\n",
      "                           Logit Regression Results                           \n",
      "==============================================================================\n",
      "Dep. Variable:       SeriousDlqin2yrs   No. Observations:               101740\n",
      "Model:                          Logit   Df Residuals:                   101733\n",
      "Method:                           MLE   Df Model:                            6\n",
      "Date:                Wed, 24 Apr 2019   Pseudo R-squ.:                  0.2149\n",
      "Time:                        10:42:28   Log-Likelihood:                -19582.\n",
      "converged:                       True   LL-Null:                       -24941.\n",
      "                                        LLR p-value:                     0.000\n",
      "========================================================================================================\n",
      "                                           coef    std err          z      P>|z|      [0.025      0.975]\n",
      "--------------------------------------------------------------------------------------------------------\n",
      "const                                   -2.8003      0.020   -139.657      0.000      -2.840      -2.761\n",
      "NumberOfDependents                      -0.5680      0.076     -7.513      0.000      -0.716      -0.420\n",
      "DebtRatio                                0.2568      0.034      7.560      0.000       0.190       0.323\n",
      "RevolvingUtilizationOfUnsecuredLines    -0.5312      0.014    -38.773      0.000      -0.558      -0.504\n",
      "NumberRealEstateLoansOrLines            -0.6955      0.061    -11.427      0.000      -0.815      -0.576\n",
      "NumberOfTime30-59DaysPastDueNotWorse    -0.6608      0.015    -43.941      0.000      -0.690      -0.631\n",
      "NumberOfTimes90DaysLate                 -0.7107      0.013    -54.922      0.000      -0.736      -0.685\n",
      "========================================================================================================\n"
     ]
    }
   ],
   "source": [
    "X1=sm.add_constant(x_train)\n",
    "logit=sm.Logit(y_train,X1)\n",
    "result=logit.fit()\n",
    "print(result.summary())"
   ]
  },
  {
   "cell_type": "code",
   "execution_count": 43,
   "metadata": {},
   "outputs": [
    {
     "name": "stdout",
     "output_type": "stream",
     "text": [
      "[[-0.70287569  0.23863091 -0.54739352 -0.79544024 -0.75155945 -0.78085329]]\n"
     ]
    }
   ],
   "source": [
    "coe=[-0.5680,0.2568,-0.5312,-0.6955,-0.6608,-0.7107]"
   ]
  },
  {
   "cell_type": "code",
   "execution_count": null,
   "metadata": {},
   "outputs": [],
   "source": [
    "#评分模型 score=a-b*log(odd)\n",
    "#假设odd=1时，评分为600，odd=2时，评分为550，则得a=600 b=166\n",
    "#可根据b*woe[i][j]*coe[i]判断不同变量的评分卡得分"
   ]
  },
  {
   "cell_type": "code",
   "execution_count": null,
   "metadata": {},
   "outputs": [],
   "source": []
  }
 ],
 "metadata": {
  "kernelspec": {
   "display_name": "Python 3",
   "language": "python",
   "name": "python3"
  },
  "language_info": {
   "codemirror_mode": {
    "name": "ipython",
    "version": 3
   },
   "file_extension": ".py",
   "mimetype": "text/x-python",
   "name": "python",
   "nbconvert_exporter": "python",
   "pygments_lexer": "ipython3",
   "version": "3.7.2"
  }
 },
 "nbformat": 4,
 "nbformat_minor": 2
}
