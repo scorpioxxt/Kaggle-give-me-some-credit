{
 "cells": [
  {
   "cell_type": "code",
   "execution_count": 40,
   "metadata": {},
   "outputs": [],
   "source": [
    "#!/usr/bin/env python \n",
    "# -*- coding:utf-8 -*-\n",
    "%matplotlib inline\n",
    "import re\n",
    "import numpy as np\n",
    "import pandas as pd\n",
    "import matplotlib.pyplot as plt\n",
    "import seaborn as sns\n",
    "import warnings\n",
    "import xgboost as xgb\n",
    "warnings.filterwarnings('ignore')\n",
    "from sklearn.tree import DecisionTreeClassifier\n",
    "from sklearn.ensemble import RandomForestRegressor\n",
    "from sklearn.ensemble import RandomForestClassifier\n",
    "from sklearn.ensemble import GradientBoostingClassifier\n",
    "from xgboost import XGBClassifier\n",
    "from sklearn import svm\n",
    "from sklearn.linear_model import LogisticRegression\n",
    "from sklearn.naive_bayes import MultinomialNB\n",
    "from sklearn import metrics\n",
    "from sklearn.metrics import accuracy_score\n",
    "from sklearn.metrics import roc_auc_score\n",
    "from sklearn.metrics import roc_curve\n",
    "from sklearn.metrics import confusion_matrix \n",
    "from sklearn .pipeline import Pipeline\n",
    "from sklearn.preprocessing import StandardScaler\n",
    "from sklearn.model_selection import GridSearchCV\n",
    "from sklearn.model_selection import RandomizedSearchCV\n",
    "from sklearn.model_selection import train_test_split,cross_val_score,cross_validate,cross_val_predict\n",
    "from sklearn.model_selection import KFold,LeaveOneOut,LeavePOut,ShuffleSplit "
   ]
  },
  {
   "cell_type": "code",
   "execution_count": 12,
   "metadata": {},
   "outputs": [
    {
     "name": "stdout",
     "output_type": "stream",
     "text": [
      "<class 'pandas.core.frame.DataFrame'>\n",
      "RangeIndex: 145344 entries, 0 to 145343\n",
      "Data columns (total 11 columns):\n",
      "SeriousDlqin2yrs                        145344 non-null int64\n",
      "age                                     145344 non-null int64\n",
      "NumberOfDependents                      145344 non-null float64\n",
      "MonthlyIncome                           145344 non-null float64\n",
      "DebtRatio                               145344 non-null float64\n",
      "RevolvingUtilizationOfUnsecuredLines    145344 non-null float64\n",
      "NumberOfOpenCreditLinesAndLoans         145344 non-null int64\n",
      "NumberRealEstateLoansOrLines            145344 non-null int64\n",
      "NumberOfTime30-59DaysPastDueNotWorse    145344 non-null int64\n",
      "NumberOfTime60-89DaysPastDueNotWorse    145344 non-null int64\n",
      "NumberOfTimes90DaysLate                 145344 non-null int64\n",
      "dtypes: float64(4), int64(7)\n",
      "memory usage: 12.2 MB\n",
      "None\n",
      "       SeriousDlqin2yrs            age  NumberOfDependents  MonthlyIncome  \\\n",
      "count     145344.000000  145344.000000       145344.000000   1.453440e+05   \n",
      "mean           0.066773      52.129768            0.760382   6.121129e+03   \n",
      "std            0.249629      14.551645            1.116399   1.319119e+04   \n",
      "min            0.000000      21.000000            0.000000   0.000000e+00   \n",
      "25%            0.000000      41.000000            0.000000   2.554000e+03   \n",
      "50%            0.000000      52.000000            0.000000   5.000000e+03   \n",
      "75%            0.000000      62.000000            1.000000   8.171250e+03   \n",
      "max            1.000000      99.000000           20.000000   3.008750e+06   \n",
      "\n",
      "           DebtRatio  RevolvingUtilizationOfUnsecuredLines  \\\n",
      "count  145344.000000                         145344.000000   \n",
      "mean      335.024761                              5.948884   \n",
      "std      1948.648590                            250.699422   \n",
      "min         0.000000                              0.000000   \n",
      "25%         0.174694                              0.031137   \n",
      "50%         0.359539                              0.158114   \n",
      "75%         0.771482                              0.558292   \n",
      "max    329664.000000                          50708.000000   \n",
      "\n",
      "       NumberOfOpenCreditLinesAndLoans  NumberRealEstateLoansOrLines  \\\n",
      "count                    145344.000000                 145344.000000   \n",
      "mean                          8.566181                      1.034869   \n",
      "std                           5.134719                      1.133261   \n",
      "min                           0.000000                      0.000000   \n",
      "25%                           5.000000                      0.000000   \n",
      "50%                           8.000000                      1.000000   \n",
      "75%                          11.000000                      2.000000   \n",
      "max                          58.000000                     54.000000   \n",
      "\n",
      "       NumberOfTime30-59DaysPastDueNotWorse  \\\n",
      "count                         145344.000000   \n",
      "mean                               0.249573   \n",
      "std                                0.703104   \n",
      "min                                0.000000   \n",
      "25%                                0.000000   \n",
      "50%                                0.000000   \n",
      "75%                                0.000000   \n",
      "max                               13.000000   \n",
      "\n",
      "       NumberOfTime60-89DaysPastDueNotWorse  NumberOfTimes90DaysLate  \n",
      "count                         145344.000000            145344.000000  \n",
      "mean                               0.065754                 0.091480  \n",
      "std                                0.331962                 0.489106  \n",
      "min                                0.000000                 0.000000  \n",
      "25%                                0.000000                 0.000000  \n",
      "50%                                0.000000                 0.000000  \n",
      "75%                                0.000000                 0.000000  \n",
      "max                               11.000000                17.000000  \n"
     ]
    }
   ],
   "source": [
    "data = pd.read_csv('D:/statistics/machine learning in action/GiveMeSomeCredit/data.csv')\n",
    "print(data.info())\n",
    "print(data.describe())"
   ]
  },
  {
   "cell_type": "markdown",
   "metadata": {},
   "source": [
    "# 特征工程"
   ]
  },
  {
   "cell_type": "code",
   "execution_count": 3,
   "metadata": {},
   "outputs": [
    {
     "data": {
      "image/png": "[encoded data removed]",
      "text/plain": [
       "<Figure size 432x288 with 1 Axes>"
      ]
     },
     "metadata": {
      "needs_background": "light"
     },
     "output_type": "display_data"
    }
   ],
   "source": [
    "y=data.ix[:,0]\n",
    "x=data.ix[:,1:]\n",
    "grd = RandomForestClassifier(n_estimators=30)\n",
    "grd.fit(x,y)\n",
    "order = [ 'age', 'NumberOfDependents', 'MonthlyIncome', 'DebtRatio', 'RevolvingUtilizationOfUnsecuredLines',\n",
    "         'NumberOfOpenCreditLinesAndLoans','NumberRealEstateLoansOrLines',\n",
    "         'NumberOfTime30-59DaysPastDueNotWorse','NumberOfTime60-89DaysPastDueNotWorse','NumberOfTimes90DaysLate']\n",
    "feature_important = pd.Series(grd.feature_importances_, index = order ).sort_values(ascending=False)\n",
    "plt.barh(feature_important.index, feature_important.data)\n",
    "plt.show()"
   ]
  },
  {
   "cell_type": "code",
   "execution_count": null,
   "metadata": {},
   "outputs": [
    {
     "data": {
      "image/png": "[encoded data removed]",
      "text/plain": [
       "<Figure size 432x288 with 1 Axes>"
      ]
     },
     "metadata": {
      "needs_background": "light"
     },
     "output_type": "display_data"
    }
   ],
   "source": [
    "grd = XGBClassifier()\n",
    "grd.fit(x,y)\n",
    "order = [ 'age', 'NumberOfDependents', 'MonthlyIncome', 'DebtRatio', 'RevolvingUtilizationOfUnsecuredLines',\n",
    "         'NumberOfOpenCreditLinesAndLoans','NumberRealEstateLoansOrLines',\n",
    "         'NumberOfTime30-59DaysPastDueNotWorse','NumberOfTime60-89DaysPastDueNotWorse','NumberOfTimes90DaysLate']\n",
    "feature_important = pd.Series(grd.feature_importances_, index = order ).sort_values(ascending=False)\n",
    "plt.barh(feature_important.index, feature_important.data)\n",
    "plt.show()"
   ]
  },
  {
   "cell_type": "code",
   "execution_count": 3,
   "metadata": {},
   "outputs": [
    {
     "name": "stdout",
     "output_type": "stream",
     "text": [
      "<class 'pandas.core.frame.DataFrame'>\n",
      "RangeIndex: 145344 entries, 0 to 145343\n",
      "Data columns (total 9 columns):\n",
      "SeriousDlqin2yrs                        145344 non-null int64\n",
      "age                                     145344 non-null int64\n",
      "MonthlyIncome                           145344 non-null float64\n",
      "DebtRatio                               145344 non-null float64\n",
      "RevolvingUtilizationOfUnsecuredLines    145344 non-null float64\n",
      "NumberOfTime30-59DaysPastDueNotWorse    145344 non-null int64\n",
      "NumberOfTime60-89DaysPastDueNotWorse    145344 non-null int64\n",
      "NumberOfTimes90DaysLate                 145344 non-null int64\n",
      "numberofloan                            145344 non-null int64\n",
      "dtypes: float64(3), int64(6)\n",
      "memory usage: 10.0 MB\n",
      "None\n"
     ]
    }
   ],
   "source": [
    "del data['NumberOfDependents']\n",
    "data['numberofloan']=data['NumberOfOpenCreditLinesAndLoans']+data['NumberRealEstateLoansOrLines']\n",
    "del data['NumberOfOpenCreditLinesAndLoans']\n",
    "del data['NumberRealEstateLoansOrLines']\n",
    "print(data.info())\n",
    "y=data.ix[:,0]\n",
    "x=data.ix[:,1:]"
   ]
  },
  {
   "cell_type": "markdown",
   "metadata": {},
   "source": [
    "# 训练模型\n",
    "## 构建训练集和测试集"
   ]
  },
  {
   "cell_type": "code",
   "execution_count": 4,
   "metadata": {},
   "outputs": [
    {
     "name": "stdout",
     "output_type": "stream",
     "text": [
      "训练集大小： (101740, 8) (101740,)\n",
      "测试集大小： (43604, 8) (43604,)\n"
     ]
    }
   ],
   "source": [
    "X_train, X_test, y_train, y_test = train_test_split(x,y, test_size=0.3, random_state=0)  # 交叉验证划分训练集和测试集.test_size为测试集所占的比例\n",
    "print('训练集大小：',X_train.shape,y_train.shape)  # 训练集样本大小\n",
    "print('测试集大小：',X_test.shape,y_test.shape)  # 测试集样本大小\n"
   ]
  },
  {
   "cell_type": "markdown",
   "metadata": {},
   "source": [
    "## SVM "
   ]
  },
  {
   "cell_type": "code",
   "execution_count": 24,
   "metadata": {},
   "outputs": [
    {
     "name": "stdout",
     "output_type": "stream",
     "text": [
      "[[94949     0]\n",
      " [ 6791     0]]\n",
      "              precision    recall  f1-score   support\n",
      "\n",
      "           0       0.93      1.00      0.97     94949\n",
      "           1       0.00      0.00      0.00      6791\n",
      "\n",
      "   micro avg       0.93      0.93      0.93    101740\n",
      "   macro avg       0.47      0.50      0.48    101740\n",
      "weighted avg       0.87      0.93      0.90    101740\n",
      "\n",
      "[[94949     0]\n",
      " [ 6791     0]]\n",
      "              precision    recall  f1-score   support\n",
      "\n",
      "           0       0.93      1.00      0.97     94949\n",
      "           1       0.00      0.00      0.00      6791\n",
      "\n",
      "   micro avg       0.93      0.93      0.93    101740\n",
      "   macro avg       0.47      0.50      0.48    101740\n",
      "weighted avg       0.87      0.93      0.90    101740\n",
      "\n",
      "[[34860  5830]\n",
      " [ 1022  1892]]\n",
      "              precision    recall  f1-score   support\n",
      "\n",
      "           0       0.97      0.86      0.91     40690\n",
      "           1       0.25      0.65      0.36      2914\n",
      "\n",
      "   micro avg       0.84      0.84      0.84     43604\n",
      "   macro avg       0.61      0.75      0.63     43604\n",
      "weighted avg       0.92      0.84      0.87     43604\n",
      "\n"
     ]
    }
   ],
   "source": [
    "svm_clf=Pipeline((\n",
    "                 (\"scaler\",StandardScaler()),\n",
    "                 (\"linear_svc\",svm.LinearSVC(C=0.1,loss=\"hinge\")),\n",
    "                 ))\n",
    "\n",
    "svm_clf.fit(X_train, y_train)\n",
    "y_train_pred_svm= svm_clf.predict(X_train)\n",
    "C1=confusion_matrix(y_train,y_train_pred_svm)\n",
    "print(C1)\n",
    "print(metrics.classification_report(y_train,y_train_pred_svm))\n",
    "\n",
    "y_train_crospred_svm=cross_val_predict(svm_clf,X_train,y_train,cv=3)\n",
    "C2=confusion_matrix(y_train,y_train_crospred_svm)\n",
    "print(C2)\n",
    "print(metrics.classification_report(y_train,y_train_crospred_svm))\n",
    "\n",
    "y_test_pred_svm = svm_clf1.predict(X_test)\n",
    "C3=confusion_matrix(y_test,y_test_pred_svm)\n",
    "print(C3)\n",
    "print(metrics.classification_report(y_test,y_test_pred_svm))\n"
   ]
  },
  {
   "cell_type": "code",
   "execution_count": null,
   "metadata": {},
   "outputs": [],
   "source": [
    "clf2=Pipeline((\n",
    "    (\"scaler\",StandardScaler()),\n",
    "    (\"svm_clf\",svm.SVC(kernel='poly', degree=3,coef0=1,C=5))\n",
    "     ))\n",
    "clf2.fit(X_train, y_train)\n",
    "print(clf2.score(X_train, y_train))\n",
    "y2 = clf1.predict(X_train)\n",
    "print(metrics.classification_report(y_train,y2))\n",
    "yt2 = clf2.predict(X_test)\n",
    "print(metrics.classification_report(y_test,yt2))"
   ]
  },
  {
   "cell_type": "markdown",
   "metadata": {},
   "source": [
    "## 决策树"
   ]
  },
  {
   "cell_type": "code",
   "execution_count": 5,
   "metadata": {},
   "outputs": [
    {
     "name": "stdout",
     "output_type": "stream",
     "text": [
      "[[94948     1]\n",
      " [   20  6771]]\n",
      "              precision    recall  f1-score   support\n",
      "\n",
      "           0       1.00      1.00      1.00     94949\n",
      "           1       1.00      1.00      1.00      6791\n",
      "\n",
      "   micro avg       1.00      1.00      1.00    101740\n",
      "   macro avg       1.00      1.00      1.00    101740\n",
      "weighted avg       1.00      1.00      1.00    101740\n",
      "\n",
      "[[38272  2418]\n",
      " [ 2073   841]]\n",
      "              precision    recall  f1-score   support\n",
      "\n",
      "           0       0.95      0.94      0.94     40690\n",
      "           1       0.26      0.29      0.27      2914\n",
      "\n",
      "   micro avg       0.90      0.90      0.90     43604\n",
      "   macro avg       0.60      0.61      0.61     43604\n",
      "weighted avg       0.90      0.90      0.90     43604\n",
      "\n"
     ]
    }
   ],
   "source": [
    "#CART树\n",
    "clf=DecisionTreeClassifier(criterion='gini', splitter='best', max_depth=None,\n",
    "                           min_samples_split=2, min_samples_leaf=1,min_weight_fraction_leaf=0.0, \n",
    "                           max_features=None, random_state=None, max_leaf_nodes=None, \n",
    "                           min_impurity_decrease=0.0, min_impurity_split=None, class_weight=None, presort=False)\n",
    "clf.fit(X_train, y_train)\n",
    "y1 = clf.predict(X_train)\n",
    "C1=confusion_matrix(y_train,y1)\n",
    "print(C1)\n",
    "print(metrics.classification_report(y_train,y1))\n",
    "\n",
    "yt1 = clf.predict(X_test)\n",
    "C2=confusion_matrix(y_test,yt1)\n",
    "print(C2)\n",
    "print(metrics.classification_report(y_test,yt1))\n"
   ]
  },
  {
   "cell_type": "markdown",
   "metadata": {},
   "source": [
    "## 样本不平衡性问题"
   ]
  },
  {
   "cell_type": "code",
   "execution_count": 22,
   "metadata": {},
   "outputs": [
    {
     "name": "stdout",
     "output_type": "stream",
     "text": [
      "<class 'pandas.core.series.Series'>\n"
     ]
    },
    {
     "data": {
      "image/png": "[encoded data removed]",
      "text/plain": [
       "<Figure size 432x288 with 1 Axes>"
      ]
     },
     "metadata": {
      "needs_background": "light"
     },
     "output_type": "display_data"
    }
   ],
   "source": [
    "print(type(y))\n",
    "k=y.groupby(y).count()\n",
    "k.plot.bar()\n",
    "plt.show()"
   ]
  },
  {
   "cell_type": "markdown",
   "metadata": {},
   "source": [
    "### 过采样"
   ]
  },
  {
   "cell_type": "code",
   "execution_count": 5,
   "metadata": {},
   "outputs": [
    {
     "name": "stdout",
     "output_type": "stream",
     "text": [
      "Counter({0: 94949, 1: 6791})\n"
     ]
    },
    {
     "data": {
      "text/plain": [
       "[(0, 94949), (1, 94949)]"
      ]
     },
     "execution_count": 5,
     "metadata": {},
     "output_type": "execute_result"
    }
   ],
   "source": [
    "from sklearn.datasets import make_classification\n",
    "from collections import Counter\n",
    "\n",
    "print(Counter(y_train))\n",
    "\n",
    "\n",
    "from imblearn.over_sampling import RandomOverSampler \n",
    "\n",
    "ros = RandomOverSampler(random_state=0)\n",
    "x_trainup, y_trainup = ros.fit_sample(X_train,y_train)\n",
    "sorted(Counter(y_trainup).items())\n"
   ]
  },
  {
   "cell_type": "markdown",
   "metadata": {},
   "source": [
    "### 下采样"
   ]
  },
  {
   "cell_type": "code",
   "execution_count": 29,
   "metadata": {},
   "outputs": [
    {
     "data": {
      "text/plain": [
       "[(0, 9705), (1, 9705)]"
      ]
     },
     "execution_count": 29,
     "metadata": {},
     "output_type": "execute_result"
    }
   ],
   "source": [
    "from imblearn.under_sampling import RandomUnderSampler\n",
    "rus = RandomUnderSampler(random_state=0)\n",
    "x_resampled, y_resampled = rus.fit_sample(x, y)\n",
    "sorted(Counter(y_resampled).items())"
   ]
  },
  {
   "cell_type": "markdown",
   "metadata": {},
   "source": [
    "## 朴素贝叶斯"
   ]
  },
  {
   "cell_type": "code",
   "execution_count": 42,
   "metadata": {},
   "outputs": [
    {
     "name": "stdout",
     "output_type": "stream",
     "text": [
      "{'alpha': 0.1}\n"
     ]
    }
   ],
   "source": [
    "mnb=MultinomialNB()\n",
    "param_grid=[{'alpha':[0.1,1,10]}]\n",
    "grid=GridSearchCV(mnb,param_grid,cv=3,scoring='accuracy')\n",
    "grid.fit(x_trainup,y_trainup)\n",
    "\n",
    "print(grid.best_params_)"
   ]
  },
  {
   "cell_type": "code",
   "execution_count": 45,
   "metadata": {},
   "outputs": [
    {
     "name": "stdout",
     "output_type": "stream",
     "text": [
      "[[49956 44993]\n",
      " [25002 69947]]\n",
      "              precision    recall  f1-score   support\n",
      "\n",
      "           0       0.67      0.53      0.59     94949\n",
      "           1       0.61      0.74      0.67     94949\n",
      "\n",
      "   micro avg       0.63      0.63      0.63    189898\n",
      "   macro avg       0.64      0.63      0.63    189898\n",
      "weighted avg       0.64      0.63      0.63    189898\n",
      "\n",
      "[[21544 19146]\n",
      " [  771  2143]]\n",
      "              precision    recall  f1-score   support\n",
      "\n",
      "           0       0.97      0.53      0.68     40690\n",
      "           1       0.10      0.74      0.18      2914\n",
      "\n",
      "   micro avg       0.54      0.54      0.54     43604\n",
      "   macro avg       0.53      0.63      0.43     43604\n",
      "weighted avg       0.91      0.54      0.65     43604\n",
      "\n",
      "0.7218032859056364\n"
     ]
    },
    {
     "data": {
      "image/png": "[encoded data removed]",
      "text/plain": [
       "<Figure size 432x288 with 1 Axes>"
      ]
     },
     "metadata": {
      "needs_background": "light"
     },
     "output_type": "display_data"
    }
   ],
   "source": [
    "clf_mnb_best=MultinomialNB(alpha=0.1)\n",
    "clf_mnb_best.fit(x_trainup, y_trainup)\n",
    "y_trainup_pred_mnb= clf_mnb_best.predict(x_trainup)\n",
    "C1=confusion_matrix(y_trainup,y_trainup_pred_mnb)\n",
    "print(C1)\n",
    "print(metrics.classification_report(y_trainup,y_trainup_pred_mnb))\n",
    "\n",
    "y_test_pred_mnb = clf_mnb_best.predict(X_test)\n",
    "C3=confusion_matrix(y_test,y_test_pred_mnb)\n",
    "print(C3)\n",
    "print(metrics.classification_report(y_test,y_test_pred_mnb))\n",
    "\n",
    "y_scores=clf_mnb_best.predict_proba(X_test)[:,1]\n",
    "fpr,tpr,threshholds=roc_curve(y_test,y_scores)\n",
    "print(roc_auc_score(y_test,y_scores))\n",
    "def plot_roc_curve(fpr,tpr,label=None):\n",
    "    plt.plot(fpr,tpr,linewidth=2,label=label)\n",
    "    plt.plot([0,1],[0,1],'k--')\n",
    "    plt.axis([0,1,0,1])\n",
    "    plt.xlabel('False Positive Rate')\n",
    "    plt.ylabel('True Positive Rate')\n",
    "\n",
    "plot_roc_curve(fpr,tpr)\n",
    "plt.show()"
   ]
  },
  {
   "cell_type": "markdown",
   "metadata": {},
   "source": [
    "## LR "
   ]
  },
  {
   "cell_type": "code",
   "execution_count": 37,
   "metadata": {},
   "outputs": [
    {
     "name": "stdout",
     "output_type": "stream",
     "text": [
      "{'lr__C': 10}\n"
     ]
    }
   ],
   "source": [
    "clf_lr=Pipeline((\n",
    "                 (\"scaler\",StandardScaler()),\n",
    "                 (\"lr\",LogisticRegression()),\n",
    "                 ))\n",
    "param_grid=[{'lr__C':[1,10,20,30]}]\n",
    "grid_search=GridSearchCV(clf_lr,param_grid,cv=3,scoring='accuracy')\n",
    "grid_search.fit(x_trainup,y_trainup)\n",
    "\n",
    "print(grid_search.best_params_)"
   ]
  },
  {
   "cell_type": "code",
   "execution_count": 38,
   "metadata": {},
   "outputs": [
    {
     "name": "stdout",
     "output_type": "stream",
     "text": [
      "[[81860 13089]\n",
      " [35553 59396]]\n",
      "              precision    recall  f1-score   support\n",
      "\n",
      "           0       0.70      0.86      0.77     94949\n",
      "           1       0.82      0.63      0.71     94949\n",
      "\n",
      "   micro avg       0.74      0.74      0.74    189898\n",
      "   macro avg       0.76      0.74      0.74    189898\n",
      "weighted avg       0.76      0.74      0.74    189898\n",
      "\n",
      "[[35065  5625]\n",
      " [ 1084  1830]]\n",
      "              precision    recall  f1-score   support\n",
      "\n",
      "           0       0.97      0.86      0.91     40690\n",
      "           1       0.25      0.63      0.35      2914\n",
      "\n",
      "   micro avg       0.85      0.85      0.85     43604\n",
      "   macro avg       0.61      0.74      0.63     43604\n",
      "weighted avg       0.92      0.85      0.88     43604\n",
      "\n",
      "0.8128294048460218\n"
     ]
    },
    {
     "data": {
      "image/png": "[encoded data removed]",
      "text/plain": [
       "<Figure size 432x288 with 1 Axes>"
      ]
     },
     "metadata": {
      "needs_background": "light"
     },
     "output_type": "display_data"
    }
   ],
   "source": [
    "clf_lr_best=Pipeline((\n",
    "                 (\"scaler\",StandardScaler()),\n",
    "                 (\"lr\",LogisticRegression(C=10)),\n",
    "                 ))\n",
    "clf_lr_best.fit(x_trainup, y_trainup)\n",
    "\n",
    "y_trainup_pred_lr= clf_lr_best.predict(x_trainup)\n",
    "C1=confusion_matrix(y_trainup,y_trainup_pred_lr)\n",
    "print(C1)\n",
    "print(metrics.classification_report(y_trainup,y_trainup_pred_lr))\n",
    "\n",
    "y_test_pred_lr = clf_lr_best.predict(X_test)\n",
    "C3=confusion_matrix(y_test,y_test_pred_lr)\n",
    "print(C3)\n",
    "print(metrics.classification_report(y_test,y_test_pred_lr))\n",
    "\n",
    "y_scores=clf_lr_best.decision_function(X_test)\n",
    "fpr,tpr,threshholds=roc_curve(y_test,y_scores)\n",
    "print(roc_auc_score(y_test,y_scores))\n",
    "def plot_roc_curve(fpr,tpr,label=None):\n",
    "    plt.plot(fpr,tpr,linewidth=2,label=label)\n",
    "    plt.plot([0,1],[0,1],'k--')\n",
    "    plt.axis([0,1,0,1])\n",
    "    plt.xlabel('False Positive Rate')\n",
    "    plt.ylabel('True Positive Rate')\n",
    "\n",
    "plot_roc_curve(fpr,tpr)\n",
    "plt.show()"
   ]
  },
  {
   "cell_type": "markdown",
   "metadata": {},
   "source": [
    "## SVM "
   ]
  },
  {
   "cell_type": "code",
   "execution_count": 66,
   "metadata": {},
   "outputs": [
    {
     "name": "stdout",
     "output_type": "stream",
     "text": [
      "{'linear_svc__C': 10}\n"
     ]
    }
   ],
   "source": [
    "svm_clf=Pipeline((\n",
    "                 (\"scaler\",StandardScaler()),\n",
    "                 (\"linear_svc\",svm.LinearSVC(loss=\"hinge\")),\n",
    "                 ))\n",
    "\n",
    "param_grid=[{'linear_svc__C':[1,10,100]}]\n",
    "grid_search=GridSearchCV(svm_clf,param_grid,cv=3,scoring='accuracy')\n",
    "grid_search.fit(x_trainup,y_trainup)\n",
    "\n",
    "print(grid_search.best_params_)"
   ]
  },
  {
   "cell_type": "code",
   "execution_count": 67,
   "metadata": {},
   "outputs": [
    {
     "name": "stdout",
     "output_type": "stream",
     "text": [
      "[[81245 13704]\n",
      " [33697 61252]]\n",
      "              precision    recall  f1-score   support\n",
      "\n",
      "           0       0.71      0.86      0.77     94949\n",
      "           1       0.82      0.65      0.72     94949\n",
      "\n",
      "   micro avg       0.75      0.75      0.75    189898\n",
      "   macro avg       0.76      0.75      0.75    189898\n",
      "weighted avg       0.76      0.75      0.75    189898\n",
      "\n",
      "[[34826  5864]\n",
      " [ 1015  1899]]\n",
      "              precision    recall  f1-score   support\n",
      "\n",
      "           0       0.97      0.86      0.91     40690\n",
      "           1       0.24      0.65      0.36      2914\n",
      "\n",
      "   micro avg       0.84      0.84      0.84     43604\n",
      "   macro avg       0.61      0.75      0.63     43604\n",
      "weighted avg       0.92      0.84      0.87     43604\n",
      "\n",
      "0.8339157933336965\n"
     ]
    },
    {
     "data": {
      "image/png": "[encoded data removed]",
      "text/plain": [
       "<Figure size 432x288 with 1 Axes>"
      ]
     },
     "metadata": {
      "needs_background": "light"
     },
     "output_type": "display_data"
    }
   ],
   "source": [
    "svm_clf_best=Pipeline((\n",
    "                 (\"scaler\",StandardScaler()),\n",
    "                 (\"linear_svc\",svm.LinearSVC(C=10,loss=\"hinge\")),\n",
    "                 ))\n",
    "svm_clf_best.fit(x_trainup, y_trainup)\n",
    "\n",
    "y_trainup_pred_svm= svm_clf_best.predict(x_trainup)\n",
    "C1=confusion_matrix(y_trainup,y_trainup_pred_svm)\n",
    "print(C1)\n",
    "print(metrics.classification_report(y_trainup,y_trainup_pred_svm))\n",
    "\n",
    "y_test_pred_svm = svm_clf_best.predict(X_test)\n",
    "C3=confusion_matrix(y_test,y_test_pred_svm)\n",
    "print(C3)\n",
    "print(metrics.classification_report(y_test,y_test_pred_svm))\n",
    "\n",
    "y_scores=svm_clf_best.decision_function(X_test)\n",
    "fpr,tpr,threshholds=roc_curve(y_test,y_scores)\n",
    "print(roc_auc_score(y_test,y_scores))\n",
    "def plot_roc_curve(fpr,tpr,label=None):\n",
    "    plt.plot(fpr,tpr,linewidth=2,label=label)\n",
    "    plt.plot([0,1],[0,1],'k--')\n",
    "    plt.axis([0,1,0,1])\n",
    "    plt.xlabel('False Positive Rate')\n",
    "    plt.ylabel('True Positive Rate')\n",
    "\n",
    "plot_roc_curve(fpr,tpr)\n",
    "plt.show()"
   ]
  },
  {
   "cell_type": "markdown",
   "metadata": {},
   "source": [
    "## 决策树"
   ]
  },
  {
   "cell_type": "code",
   "execution_count": 85,
   "metadata": {},
   "outputs": [
    {
     "name": "stdout",
     "output_type": "stream",
     "text": [
      "{'max_depth': 32, 'min_samples_leaf': 1}\n"
     ]
    }
   ],
   "source": [
    "#CART树\n",
    "clf_dt=DecisionTreeClassifier(criterion='gini', splitter='best',\n",
    "                           min_samples_split=2, min_weight_fraction_leaf=0.0, \n",
    "                           max_features=None, random_state=None, max_leaf_nodes=None, \n",
    "                           min_impurity_decrease=0.0, min_impurity_split=None, class_weight=None, presort=False)\n",
    "param_grid=[{'max_depth':[8,16,32],'min_samples_leaf':[1,5,10]}]\n",
    "grid_search=GridSearchCV(clf_dt,param_grid,cv=3,scoring='accuracy')\n",
    "grid_search.fit(x_trainup,y_trainup)\n",
    "\n",
    "print(grid_search.best_params_)\n",
    "\n"
   ]
  },
  {
   "cell_type": "code",
   "execution_count": 96,
   "metadata": {},
   "outputs": [
    {
     "name": "stdout",
     "output_type": "stream",
     "text": [
      "[[72623 22326]\n",
      " [20240 74709]]\n",
      "              precision    recall  f1-score   support\n",
      "\n",
      "           0       0.78      0.76      0.77     94949\n",
      "           1       0.77      0.79      0.78     94949\n",
      "\n",
      "   micro avg       0.78      0.78      0.78    189898\n",
      "   macro avg       0.78      0.78      0.78    189898\n",
      "weighted avg       0.78      0.78      0.78    189898\n",
      "\n",
      "[[30972  9718]\n",
      " [  671  2243]]\n",
      "              precision    recall  f1-score   support\n",
      "\n",
      "           0       0.98      0.76      0.86     40690\n",
      "           1       0.19      0.77      0.30      2914\n",
      "\n",
      "   micro avg       0.76      0.76      0.76     43604\n",
      "   macro avg       0.58      0.77      0.58     43604\n",
      "weighted avg       0.93      0.76      0.82     43604\n",
      "\n"
     ]
    }
   ],
   "source": [
    "clf_dt_best=DecisionTreeClassifier(criterion='gini', splitter='best',max_depth=5,\n",
    "                           min_samples_split=2, min_weight_fraction_leaf=0.0, min_samples_leaf=1,\n",
    "                           max_features=None, random_state=None, max_leaf_nodes=None, \n",
    "                           min_impurity_decrease=0.0, min_impurity_split=None, class_weight=None, presort=False)\n",
    "clf_dt_best.fit(x_trainup, y_trainup)\n",
    "y_trainup_pred_dt = clf_dt_best.predict(x_trainup)\n",
    "C1=confusion_matrix(y_trainup,y_trainup_pred_dt)\n",
    "print(C1)\n",
    "print(metrics.classification_report(y_trainup,y_trainup_pred_dt))\n",
    "\n",
    "y_test_pred_dt = clf_dt_best.predict(X_test)\n",
    "C2=confusion_matrix(y_test,y_test_pred_dt)\n",
    "print(C2)\n",
    "print(metrics.classification_report(y_test,y_test_pred_dt))"
   ]
  },
  {
   "cell_type": "code",
   "execution_count": 97,
   "metadata": {},
   "outputs": [
    {
     "name": "stdout",
     "output_type": "stream",
     "text": [
      "0.8409361219714894\n"
     ]
    },
    {
     "data": {
      "image/png": "[encoded data removed]",
      "text/plain": [
       "<Figure size 432x288 with 1 Axes>"
      ]
     },
     "metadata": {
      "needs_background": "light"
     },
     "output_type": "display_data"
    }
   ],
   "source": [
    "y_scores=clf_dt_best.predict_proba(X_test)[:,1]\n",
    "      \n",
    "fpr,tpr,threshholds=roc_curve(y_test,y_scores)\n",
    "print(roc_auc_score(y_test,y_scores))\n",
    "def plot_roc_curve(fpr,tpr,label=None):\n",
    "    plt.plot(fpr,tpr,linewidth=2,label=label)\n",
    "    plt.plot([0,1],[0,1],'k--')\n",
    "    plt.axis([0,1,0,1])\n",
    "    plt.xlabel('False Positive Rate')\n",
    "    plt.ylabel('True Positive Rate')\n",
    "\n",
    "plot_roc_curve(fpr,tpr)\n",
    "plt.show()"
   ]
  },
  {
   "cell_type": "code",
   "execution_count": 105,
   "metadata": {},
   "outputs": [
    {
     "ename": "AttributeError",
     "evalue": "'RandomizedSearchCV' object has no attribute 'best_params'",
     "output_type": "error",
     "traceback": [
      "\u001b[1;31m---------------------------------------------------------------------------\u001b[0m",
      "\u001b[1;31mAttributeError\u001b[0m                            Traceback (most recent call last)",
      "\u001b[1;32m<ipython-input-105-466c5219fbf1>\u001b[0m in \u001b[0;36m<module>\u001b[1;34m\u001b[0m\n\u001b[0;32m     12\u001b[0m \u001b[0mgrid\u001b[0m\u001b[1;33m.\u001b[0m\u001b[0mfit\u001b[0m\u001b[1;33m(\u001b[0m\u001b[0mx_trainup\u001b[0m\u001b[1;33m,\u001b[0m\u001b[0my_trainup\u001b[0m\u001b[1;33m)\u001b[0m\u001b[1;33m\u001b[0m\u001b[1;33m\u001b[0m\u001b[0m\n\u001b[0;32m     13\u001b[0m \u001b[1;31m#返回最优的训练器\u001b[0m\u001b[1;33m\u001b[0m\u001b[1;33m\u001b[0m\u001b[1;33m\u001b[0m\u001b[0m\n\u001b[1;32m---> 14\u001b[1;33m \u001b[0mprint\u001b[0m\u001b[1;33m(\u001b[0m\u001b[0mgrid\u001b[0m\u001b[1;33m.\u001b[0m\u001b[0mbest_params\u001b[0m\u001b[1;33m)\u001b[0m\u001b[1;33m\u001b[0m\u001b[1;33m\u001b[0m\u001b[0m\n\u001b[0m",
      "\u001b[1;31mAttributeError\u001b[0m: 'RandomizedSearchCV' object has no attribute 'best_params'"
     ]
    }
   ],
   "source": [
    "#RF\n",
    "clf_rf = RandomForestClassifier() \n",
    "\n",
    "param_dist = {'n_estimators':range(80,200,4),'max_depth':range(2,15,1),'min_samples_leaf':range(1,9,1)} \n",
    "\n",
    "grid = RandomizedSearchCV(clf_rf,param_dist,cv = 3,scoring = 'accuracy',n_iter=100,n_jobs = -1) \n",
    "#在训练集上训练\n",
    "grid.fit(x_trainup,y_trainup)\n",
    "\n"
   ]
  },
  {
   "cell_type": "code",
   "execution_count": 106,
   "metadata": {},
   "outputs": [
    {
     "name": "stdout",
     "output_type": "stream",
     "text": [
      "RandomForestClassifier(bootstrap=True, class_weight=None, criterion='gini',\n",
      "            max_depth=14, max_features='auto', max_leaf_nodes=None,\n",
      "            min_impurity_decrease=0.0, min_impurity_split=None,\n",
      "            min_samples_leaf=1, min_samples_split=2,\n",
      "            min_weight_fraction_leaf=0.0, n_estimators=196, n_jobs=None,\n",
      "            oob_score=False, random_state=None, verbose=0,\n",
      "            warm_start=False)\n"
     ]
    }
   ],
   "source": [
    "best_estimator = grid.best_estimator_\n",
    "print(best_estimator)"
   ]
  },
  {
   "cell_type": "code",
   "execution_count": 107,
   "metadata": {},
   "outputs": [
    {
     "name": "stdout",
     "output_type": "stream",
     "text": [
      "[[84293 10656]\n",
      " [10763 84186]]\n",
      "              precision    recall  f1-score   support\n",
      "\n",
      "           0       0.89      0.89      0.89     94949\n",
      "           1       0.89      0.89      0.89     94949\n",
      "\n",
      "   micro avg       0.89      0.89      0.89    189898\n",
      "   macro avg       0.89      0.89      0.89    189898\n",
      "weighted avg       0.89      0.89      0.89    189898\n",
      "\n",
      "[[35286  5404]\n",
      " [ 1105  1809]]\n",
      "              precision    recall  f1-score   support\n",
      "\n",
      "           0       0.97      0.87      0.92     40690\n",
      "           1       0.25      0.62      0.36      2914\n",
      "\n",
      "   micro avg       0.85      0.85      0.85     43604\n",
      "   macro avg       0.61      0.74      0.64     43604\n",
      "weighted avg       0.92      0.85      0.88     43604\n",
      "\n",
      "0.8411695734847054\n"
     ]
    },
    {
     "data": {
      "image/png": "[encoded data removed]",
      "text/plain": [
       "<Figure size 432x288 with 1 Axes>"
      ]
     },
     "metadata": {
      "needs_background": "light"
     },
     "output_type": "display_data"
    }
   ],
   "source": [
    "clf_rf_best=RandomForestClassifier(bootstrap=True, class_weight=None, criterion='gini',\n",
    "            max_depth=14, max_features='auto', max_leaf_nodes=None,\n",
    "            min_impurity_decrease=0.0, min_impurity_split=None,\n",
    "            min_samples_leaf=1, min_samples_split=2,\n",
    "            min_weight_fraction_leaf=0.0, n_estimators=196, n_jobs=None,\n",
    "            oob_score=False, random_state=None, verbose=0,\n",
    "            warm_start=False)\n",
    "clf_rf_best.fit(x_trainup, y_trainup)\n",
    "y_trainup_pred_dt = clf_rf_best.predict(x_trainup)\n",
    "C1=confusion_matrix(y_trainup,y_trainup_pred_dt)\n",
    "print(C1)\n",
    "print(metrics.classification_report(y_trainup,y_trainup_pred_dt))\n",
    "\n",
    "y_test_pred_dt = clf_rf_best.predict(X_test)\n",
    "C2=confusion_matrix(y_test,y_test_pred_dt)\n",
    "print(C2)\n",
    "print(metrics.classification_report(y_test,y_test_pred_dt))\n",
    "\n",
    "y_scores=clf_rf_best.predict_proba(X_test)[:,1]\n",
    "      \n",
    "fpr,tpr,threshholds=roc_curve(y_test,y_scores)\n",
    "print(roc_auc_score(y_test,y_scores))\n",
    "def plot_roc_curve(fpr,tpr,label=None):\n",
    "    plt.plot(fpr,tpr,linewidth=2,label=label)\n",
    "    plt.plot([0,1],[0,1],'k--')\n",
    "    plt.axis([0,1,0,1])\n",
    "    plt.xlabel('False Positive Rate')\n",
    "    plt.ylabel('True Positive Rate')\n",
    "\n",
    "plot_roc_curve(fpr,tpr)\n",
    "plt.show()"
   ]
  },
  {
   "cell_type": "code",
   "execution_count": 9,
   "metadata": {},
   "outputs": [
    {
     "name": "stdout",
     "output_type": "stream",
     "text": [
      "GradientBoostingClassifier(criterion='friedman_mse', init=None,\n",
      "              learning_rate=0.42894736842105263, loss='deviance',\n",
      "              max_depth=13, max_features=None, max_leaf_nodes=None,\n",
      "              min_impurity_decrease=0.0, min_impurity_split=None,\n",
      "              min_samples_leaf=5, min_samples_split=2,\n",
      "              min_weight_fraction_leaf=0.0, n_estimators=122,\n",
      "              n_iter_no_change=None, presort='auto', random_state=None,\n",
      "              subsample=1.0, tol=0.0001, validation_fraction=0.1,\n",
      "              verbose=0, warm_start=False)\n"
     ]
    }
   ],
   "source": [
    "#GBDT\n",
    "clf_gbdt=GradientBoostingClassifier()\n",
    "param_dist = {'n_estimators':range(50,150,4),'max_depth':range(2,15,1),'learning_rate':np.linspace(0.01,2,20),'min_samples_leaf':range(1,9,1)} \n",
    "\n",
    "grid = RandomizedSearchCV(clf_gbdt,param_dist,cv = 3,scoring = 'accuracy',n_iter=20,n_jobs = -1) \n",
    "\n",
    "grid.fit(x_trainup,y_trainup)\n",
    "best_estimator = grid.best_estimator_\n",
    "print(best_estimator)\n"
   ]
  },
  {
   "cell_type": "code",
   "execution_count": 13,
   "metadata": {},
   "outputs": [
    {
     "name": "stdout",
     "output_type": "stream",
     "text": [
      "[[94918    31]\n",
      " [    0 94949]]\n",
      "              precision    recall  f1-score   support\n",
      "\n",
      "           0       1.00      1.00      1.00     94949\n",
      "           1       1.00      1.00      1.00     94949\n",
      "\n",
      "   micro avg       1.00      1.00      1.00    189898\n",
      "   macro avg       1.00      1.00      1.00    189898\n",
      "weighted avg       1.00      1.00      1.00    189898\n",
      "\n",
      "[[39477  1213]\n",
      " [ 2162   752]]\n",
      "              precision    recall  f1-score   support\n",
      "\n",
      "           0       0.95      0.97      0.96     40690\n",
      "           1       0.38      0.26      0.31      2914\n",
      "\n",
      "   micro avg       0.92      0.92      0.92     43604\n",
      "   macro avg       0.67      0.61      0.63     43604\n",
      "weighted avg       0.91      0.92      0.92     43604\n",
      "\n",
      "0.7575726153502056\n"
     ]
    },
    {
     "data": {
      "image/png": "[encoded data removed]",
      "text/plain": [
       "<Figure size 432x288 with 1 Axes>"
      ]
     },
     "metadata": {
      "needs_background": "light"
     },
     "output_type": "display_data"
    }
   ],
   "source": [
    "clf_gbdt_best=GradientBoostingClassifier(criterion='friedman_mse', init=None,\n",
    "              learning_rate=0.42894736842105263, loss='deviance',\n",
    "              max_depth=13, max_features=None, max_leaf_nodes=None,\n",
    "              min_impurity_decrease=0.0, min_impurity_split=None,\n",
    "              min_samples_leaf=5, min_samples_split=2,\n",
    "              min_weight_fraction_leaf=0.0, n_estimators=122,\n",
    "              n_iter_no_change=None, presort='auto', random_state=None,\n",
    "              subsample=1.0, tol=0.0001, validation_fraction=0.1,\n",
    "              verbose=0, warm_start=False)\n",
    "\n",
    "clf_gbdt_best.fit(x_trainup, y_trainup)\n",
    "y_trainup_pred_gbdt = clf_gbdt_best.predict(x_trainup)\n",
    "C1=confusion_matrix(y_trainup,y_trainup_pred_gbdt)\n",
    "print(C1)\n",
    "print(metrics.classification_report(y_trainup,y_trainup_pred_gbdt))\n",
    "\n",
    "y_test_pred_gbdt = clf_gbdt_best.predict(X_test)\n",
    "C2=confusion_matrix(y_test,y_test_pred_gbdt)\n",
    "print(C2)\n",
    "print(metrics.classification_report(y_test,y_test_pred_gbdt))\n",
    "\n",
    "y_scores=clf_gbdt_best.predict_proba(X_test)[:,1]\n",
    "      \n",
    "fpr,tpr,threshholds=roc_curve(y_test,y_scores)\n",
    "print(roc_auc_score(y_test,y_scores))\n",
    "def plot_roc_curve(fpr,tpr,label=None):\n",
    "    plt.plot(fpr,tpr,linewidth=2,label=label)\n",
    "    plt.plot([0,1],[0,1],'k--')\n",
    "    plt.axis([0,1,0,1])\n",
    "    plt.xlabel('False Positive Rate')\n",
    "    plt.ylabel('True Positive Rate')\n",
    "\n",
    "plot_roc_curve(fpr,tpr)\n",
    "plt.show()"
   ]
  },
  {
   "cell_type": "code",
   "execution_count": 116,
   "metadata": {},
   "outputs": [
    {
     "name": "stdout",
     "output_type": "stream",
     "text": [
      "XGBClassifier(base_score=0.5, booster='gbtree', colsample_bylevel=1,\n",
      "       colsample_bytree=0.5533333333333333, gamma=0,\n",
      "       learning_rate=0.8478947368421053, max_delta_step=0, max_depth=14,\n",
      "       min_child_weight=1, missing=None, n_estimators=92, n_jobs=1,\n",
      "       nthread=None, objective='binary:logistic', random_state=0,\n",
      "       reg_alpha=0, reg_lambda=1, scale_pos_weight=1, seed=None,\n",
      "       silent=True, subsample=0.7947368421052632)\n"
     ]
    }
   ],
   "source": [
    "#XGBDT\n",
    "clf_xgb = xgb.XGBClassifier() \n",
    "\n",
    "param_dist = {'n_estimators':range(80,200,4),'max_depth':range(2,15,1),'learning_rate':np.linspace(0.01,2,20),\n",
    "              'subsample':np.linspace(0.7,0.9,20),'colsample_bytree':np.linspace(0.5,0.98,10),'min_child_weight':range(1,9,1)} \n",
    "\n",
    "grid = RandomizedSearchCV(clf_xgb,param_dist,cv = 3,scoring = 'neg_log_loss',n_iter=30,n_jobs = -1) \n",
    "#在训练集上训练\n",
    "grid.fit(x_trainup,y_trainup)\n",
    "#返回最优的训练器\n",
    "best_estimator = grid.best_estimator_\n",
    "print(best_estimator)"
   ]
  },
  {
   "cell_type": "code",
   "execution_count": 25,
   "metadata": {},
   "outputs": [
    {
     "name": "stdout",
     "output_type": "stream",
     "text": [
      "[[94903    46]\n",
      " [    0 94949]]\n",
      "              precision    recall  f1-score   support\n",
      "\n",
      "           0       1.00      1.00      1.00     94949\n",
      "           1       1.00      1.00      1.00     94949\n",
      "\n",
      "   micro avg       1.00      1.00      1.00    189898\n",
      "   macro avg       1.00      1.00      1.00    189898\n",
      "weighted avg       1.00      1.00      1.00    189898\n",
      "\n",
      "[[39159  1531]\n",
      " [ 2119   795]]\n",
      "              precision    recall  f1-score   support\n",
      "\n",
      "           0       0.95      0.96      0.96     40690\n",
      "           1       0.34      0.27      0.30      2914\n",
      "\n",
      "   micro avg       0.92      0.92      0.92     43604\n",
      "   macro avg       0.65      0.62      0.63     43604\n",
      "weighted avg       0.91      0.92      0.91     43604\n",
      "\n",
      "0.7733455097576416\n"
     ]
    },
    {
     "data": {
      "image/png": "[encoded data removed]",
      "text/plain": [
       "<Figure size 432x288 with 1 Axes>"
      ]
     },
     "metadata": {
      "needs_background": "light"
     },
     "output_type": "display_data"
    }
   ],
   "source": [
    "clf_xgb_best=XGBClassifier(base_score=0.5, booster='gbtree', colsample_bylevel=1,\n",
    "       colsample_bytree=0.5533333333333333, gamma=0,\n",
    "       learning_rate=0.8478947368421053, max_delta_step=0, max_depth=14,\n",
    "       min_child_weight=1, missing=None, n_estimators=92, n_jobs=1,\n",
    "       nthread=None, objective='binary:logistic', random_state=0,\n",
    "       reg_alpha=0, reg_lambda=1, scale_pos_weight=1, seed=None,\n",
    "       silent=True, subsample=0.7947368421052632)\n",
    "\n",
    "clf_xgb_best.fit(x_trainup, y_trainup)\n",
    "y_trainup_pred_xgb = clf_xgb_best.predict(x_trainup)\n",
    "C1=confusion_matrix(y_trainup,y_trainup_pred_xgb)\n",
    "print(C1)\n",
    "print(metrics.classification_report(y_trainup,y_trainup_pred_xgb))\n",
    "\n",
    "y_test_pred_xgb = clf_xgb_best.predict(X_test.as_matrix())\n",
    "C2=confusion_matrix(y_test,y_test_pred_xgb)\n",
    "print(C2)\n",
    "print(metrics.classification_report(y_test,y_test_pred_xgb))\n",
    "\n",
    "y_scores=clf_xgb_best.predict_proba(X_test.as_matrix())[:,1]\n",
    "      \n",
    "fpr,tpr,threshholds=roc_curve(y_test,y_scores)\n",
    "print(roc_auc_score(y_test,y_scores))\n",
    "def plot_roc_curve(fpr,tpr,label=None):\n",
    "    plt.plot(fpr,tpr,linewidth=2,label=label)\n",
    "    plt.plot([0,1],[0,1],'k--')\n",
    "    plt.axis([0,1,0,1])\n",
    "    plt.xlabel('False Positive Rate')\n",
    "    plt.ylabel('True Positive Rate')\n",
    "\n",
    "plot_roc_curve(fpr,tpr)\n",
    "plt.show()"
   ]
  },
  {
   "cell_type": "code",
   "execution_count": 30,
   "metadata": {},
   "outputs": [
    {
     "name": "stdout",
     "output_type": "stream",
     "text": [
      "LGBMClassifier(boosting_type='gbdt', class_weight=None, colsample_bytree=1.0,\n",
      "        importance_type='split', learning_rate=0.42894736842105263,\n",
      "        max_depth=13, min_child_samples=20, min_child_weight=0.001,\n",
      "        min_split_gain=0.0, n_estimators=188, n_jobs=-1, num_leaves=31,\n",
      "        objective=None, random_state=None, reg_alpha=0.0, reg_lambda=0.0,\n",
      "        silent=True, subsample=1.0, subsample_for_bin=200000,\n",
      "        subsample_freq=0)\n"
     ]
    }
   ],
   "source": [
    "#LightGBM\n",
    "import lightgbm as lgb\n",
    "clf_lgb = lgb.LGBMClassifier() \n",
    "\n",
    "param_dist = {'n_estimators':range(80,200,4),'max_depth':range(2,15,1),'learning_rate':np.linspace(0.01,2,20)} \n",
    "\n",
    "grid = RandomizedSearchCV(clf_lgb,param_dist,cv = 3,scoring = 'accuracy',n_iter=30,n_jobs = -1) \n",
    "#在训练集上训练\n",
    "grid.fit(x_trainup,y_trainup)\n",
    "#返回最优的训练器\n",
    "best_estimator = grid.best_estimator_\n",
    "print(best_estimator)"
   ]
  },
  {
   "cell_type": "code",
   "execution_count": 32,
   "metadata": {},
   "outputs": [
    {
     "name": "stdout",
     "output_type": "stream",
     "text": [
      "[[83298 11651]\n",
      " [ 6427 88522]]\n",
      "              precision    recall  f1-score   support\n",
      "\n",
      "           0       0.93      0.88      0.90     94949\n",
      "           1       0.88      0.93      0.91     94949\n",
      "\n",
      "   micro avg       0.90      0.90      0.90    189898\n",
      "   macro avg       0.91      0.90      0.90    189898\n",
      "weighted avg       0.91      0.90      0.90    189898\n",
      "\n",
      "[[34701  5989]\n",
      " [ 1251  1663]]\n",
      "              precision    recall  f1-score   support\n",
      "\n",
      "           0       0.97      0.85      0.91     40690\n",
      "           1       0.22      0.57      0.31      2914\n",
      "\n",
      "   micro avg       0.83      0.83      0.83     43604\n",
      "   macro avg       0.59      0.71      0.61     43604\n",
      "weighted avg       0.92      0.83      0.87     43604\n",
      "\n",
      "0.7959439417812131\n"
     ]
    },
    {
     "data": {
      "image/png": "[encoded data removed]",
      "text/plain": [
       "<Figure size 432x288 with 1 Axes>"
      ]
     },
     "metadata": {
      "needs_background": "light"
     },
     "output_type": "display_data"
    }
   ],
   "source": [
    "clf_lgb_best=lgb.LGBMClassifier(boosting_type='gbdt', class_weight=None, colsample_bytree=1.0,\n",
    "        importance_type='split', learning_rate=0.42894736842105263,\n",
    "        max_depth=13, min_child_samples=20, min_child_weight=0.001,\n",
    "        min_split_gain=0.0, n_estimators=188, n_jobs=-1, num_leaves=31,\n",
    "        objective=None, random_state=None, reg_alpha=0.0, reg_lambda=0.0,\n",
    "        silent=True, subsample=1.0, subsample_for_bin=200000,\n",
    "        subsample_freq=0)\n",
    "clf_lgb_best.fit(x_trainup, y_trainup)\n",
    "y_trainup_pred_lgb = clf_lgb_best.predict(x_trainup)\n",
    "C1=confusion_matrix(y_trainup,y_trainup_pred_lgb)\n",
    "print(C1)\n",
    "print(metrics.classification_report(y_trainup,y_trainup_pred_lgb))\n",
    "\n",
    "y_test_pred_lgb = clf_lgb_best.predict(X_test.as_matrix())\n",
    "C2=confusion_matrix(y_test,y_test_pred_lgb)\n",
    "print(C2)\n",
    "print(metrics.classification_report(y_test,y_test_pred_lgb))\n",
    "\n",
    "y_scores=clf_lgb_best.predict_proba(X_test.as_matrix())[:,1]\n",
    "      \n",
    "fpr,tpr,threshholds=roc_curve(y_test,y_scores)\n",
    "print(roc_auc_score(y_test,y_scores))\n",
    "def plot_roc_curve(fpr,tpr,label=None):\n",
    "    plt.plot(fpr,tpr,linewidth=2,label=label)\n",
    "    plt.plot([0,1],[0,1],'k--')\n",
    "    plt.axis([0,1,0,1])\n",
    "    plt.xlabel('False Positive Rate')\n",
    "    plt.ylabel('True Positive Rate')\n",
    "\n",
    "plot_roc_curve(fpr,tpr)\n",
    "plt.show()"
   ]
  },
  {
   "cell_type": "markdown",
   "metadata": {},
   "source": [
    "## 模型融合"
   ]
  },
  {
   "cell_type": "code",
   "execution_count": 71,
   "metadata": {},
   "outputs": [],
   "source": [
    "#blending\n",
    "clfs=[Pipeline((\n",
    "                 (\"scaler\",StandardScaler()),\n",
    "                 (\"lr\",LogisticRegression(C=10)),\n",
    "                 )),\n",
    "      Pipeline((\n",
    "                 (\"scaler\",StandardScaler()),\n",
    "                 (\"linear_svc\",svm.LinearSVC(C=10,loss=\"hinge\")),\n",
    "                 )),\n",
    "      DecisionTreeClassifier(criterion='gini', splitter='best',max_depth=5,\n",
    "                           min_samples_split=2, min_weight_fraction_leaf=0.0, min_samples_leaf=1,\n",
    "                           max_features=None, random_state=None, max_leaf_nodes=None, \n",
    "                           min_impurity_decrease=0.0, min_impurity_split=None, class_weight=None, presort=False),\n",
    "      RandomForestClassifier(bootstrap=True, class_weight=None, criterion='gini',\n",
    "            max_depth=14, max_features='auto', max_leaf_nodes=None,\n",
    "            min_impurity_decrease=0.0, min_impurity_split=None,\n",
    "            min_samples_leaf=1, min_samples_split=2,\n",
    "            min_weight_fraction_leaf=0.0, n_estimators=196, n_jobs=None,\n",
    "            oob_score=False, random_state=None, verbose=0,\n",
    "            warm_start=False),\n",
    "      GradientBoostingClassifier(criterion='friedman_mse', init=None,\n",
    "              learning_rate=0.42894736842105263, loss='deviance',\n",
    "              max_depth=13, max_features=None, max_leaf_nodes=None,\n",
    "              min_impurity_decrease=0.0, min_impurity_split=None,\n",
    "              min_samples_leaf=5, min_samples_split=2,\n",
    "              min_weight_fraction_leaf=0.0, n_estimators=122,\n",
    "              n_iter_no_change=None, presort='auto', random_state=None,\n",
    "              subsample=1.0, tol=0.0001, validation_fraction=0.1,\n",
    "              verbose=0, warm_start=False),\n",
    "      XGBClassifier(base_score=0.5, booster='gbtree', colsample_bylevel=1,\n",
    "       colsample_bytree=0.5533333333333333, gamma=0,\n",
    "       learning_rate=0.8478947368421053, max_delta_step=0, max_depth=14,\n",
    "       min_child_weight=1, missing=None, n_estimators=92, n_jobs=1,\n",
    "       nthread=None, objective='binary:logistic', random_state=0,\n",
    "       reg_alpha=0, reg_lambda=1, scale_pos_weight=1, seed=None,\n",
    "       silent=True, subsample=0.7947368421052632),\n",
    "      lgb.LGBMClassifier(boosting_type='gbdt', class_weight=None, colsample_bytree=1.0,\n",
    "        importance_type='split', learning_rate=0.42894736842105263,\n",
    "        max_depth=13, min_child_samples=20, min_child_weight=0.001,\n",
    "        min_split_gain=0.0, n_estimators=188, n_jobs=-1, num_leaves=31,\n",
    "        objective=None, random_state=None, reg_alpha=0.0, reg_lambda=0.0,\n",
    "        silent=True, subsample=1.0, subsample_for_bin=200000,subsample_freq=0)]"
   ]
  },
  {
   "cell_type": "code",
   "execution_count": 51,
   "metadata": {},
   "outputs": [
    {
     "name": "stdout",
     "output_type": "stream",
     "text": [
      "(189898, 8) (189898,)\n"
     ]
    }
   ],
   "source": [
    "print(x_trainup.shape,y_trainup.shape)"
   ]
  },
  {
   "cell_type": "code",
   "execution_count": 52,
   "metadata": {},
   "outputs": [
    {
     "name": "stdout",
     "output_type": "stream",
     "text": [
      "训练集大小： (94949, 8) (94949,)\n",
      "验证集大小： (94949, 8) (94949,)\n"
     ]
    }
   ],
   "source": [
    "x_trainblend, x_valid, y_trainblend, y_valid = train_test_split(x_trainup,y_trainup, test_size=0.5, random_state=0)  # 交叉验证划分训练集和测试集.test_size为测试集所占的比例\n",
    "print('训练集大小：',x_trainblend.shape,y_trainblend.shape)  # 训练集样本大小\n",
    "print('验证集大小：',x_valid.shape,y_valid.shape)  # 测试集样本大小"
   ]
  },
  {
   "cell_type": "code",
   "execution_count": 72,
   "metadata": {},
   "outputs": [
    {
     "name": "stdout",
     "output_type": "stream",
     "text": [
      "0.8127864684231327\n",
      "0.8341029812940233\n",
      "0.8379962336382373\n",
      "0.8466220564176669\n",
      "0.7929814508918143\n",
      "0.7888609332190611\n",
      "0.8075163746242114\n",
      "[[1. 1. 1. ... 1. 1. 1.]\n",
      " [0. 0. 0. ... 1. 1. 0.]\n",
      " [0. 0. 0. ... 0. 0. 0.]\n",
      " ...\n",
      " [0. 0. 1. ... 1. 1. 1.]\n",
      " [0. 0. 1. ... 0. 0. 0.]\n",
      " [0. 0. 0. ... 0. 0. 0.]]\n",
      "[[0. 0. 0. ... 0. 0. 0.]\n",
      " [0. 0. 0. ... 0. 0. 0.]\n",
      " [0. 0. 0. ... 0. 0. 0.]\n",
      " ...\n",
      " [0. 0. 0. ... 0. 0. 0.]\n",
      " [1. 1. 1. ... 1. 1. 1.]\n",
      " [0. 0. 0. ... 0. 0. 0.]]\n"
     ]
    },
    {
     "data": {
      "image/png": "[encoded data removed]",
      "text/plain": [
       "<Figure size 432x288 with 1 Axes>"
      ]
     },
     "metadata": {
      "needs_background": "light"
     },
     "output_type": "display_data"
    }
   ],
   "source": [
    "def plot_roc_curve(fpr,tpr,label=None):\n",
    "    plt.plot(fpr,tpr,linewidth=2,label=label)\n",
    "    plt.plot([0,1],[0,1],'k--')\n",
    "    plt.axis([0,1,0,1])\n",
    "    plt.xlabel('False Positive Rate')\n",
    "    plt.ylabel('True Positive Rate')\n",
    "dataset_d1 = np.zeros((x_valid.shape[0], len(clfs)))\n",
    "dataset_d2 = np.zeros((X_test.shape[0], len(clfs)))\n",
    "for j, clf in enumerate(clfs):\n",
    "    clf.fit(x_trainblend, y_trainblend)\n",
    "    y_valid_pred=clf.predict(x_valid)\n",
    "    y_test_pred=clf.predict(X_test.as_matrix())\n",
    "    if j==0 or j==1:\n",
    "        y_scores=clf.decision_function(X_test.as_matrix())\n",
    "    else: \n",
    "        y_scores=clf.predict_proba(X_test.as_matrix())[:,1]     \n",
    "    fpr,tpr,threshholds=roc_curve(y_test,y_scores)\n",
    "    print(roc_auc_score(y_test,y_scores))  \n",
    "    plot_roc_curve(fpr,tpr)\n",
    "    dataset_d1[:,j]=y_valid_pred\n",
    "    dataset_d2[:,j]=y_test_pred\n",
    "\n",
    "print(dataset_d1)\n",
    "print(dataset_d2)"
   ]
  },
  {
   "cell_type": "code",
   "execution_count": null,
   "metadata": {},
   "outputs": [],
   "source": [
    "#vote"
   ]
  },
  {
   "cell_type": "code",
   "execution_count": 89,
   "metadata": {},
   "outputs": [
    {
     "name": "stdout",
     "output_type": "stream",
     "text": [
      "[[45094  2181]\n",
      " [   20 47654]]\n",
      "              precision    recall  f1-score   support\n",
      "\n",
      "           0       1.00      0.95      0.98     47275\n",
      "           1       0.96      1.00      0.98     47674\n",
      "\n",
      "   micro avg       0.98      0.98      0.98     94949\n",
      "   macro avg       0.98      0.98      0.98     94949\n",
      "weighted avg       0.98      0.98      0.98     94949\n",
      "\n",
      "[[38763  1927]\n",
      " [ 1831  1083]]\n",
      "              precision    recall  f1-score   support\n",
      "\n",
      "           0       0.95      0.95      0.95     40690\n",
      "           1       0.36      0.37      0.37      2914\n",
      "\n",
      "   micro avg       0.91      0.91      0.91     43604\n",
      "   macro avg       0.66      0.66      0.66     43604\n",
      "weighted avg       0.92      0.91      0.91     43604\n",
      "\n",
      "0.8194776852890927\n"
     ]
    },
    {
     "data": {
      "image/png": "[encoded data removed]",
      "text/plain": [
       "<Figure size 432x288 with 1 Axes>"
      ]
     },
     "metadata": {
      "needs_background": "light"
     },
     "output_type": "display_data"
    }
   ],
   "source": [
    "clf = RandomForestClassifier(bootstrap=True, class_weight=None, criterion='gini',\n",
    "            max_depth=2, max_features='auto', max_leaf_nodes=None,\n",
    "            min_impurity_decrease=0.0, min_impurity_split=None,\n",
    "            min_samples_leaf=1, min_samples_split=2,\n",
    "            min_weight_fraction_leaf=0.0, n_estimators=196, n_jobs=None,\n",
    "            oob_score=False, random_state=None, verbose=0,\n",
    "            warm_start=False)\n",
    "clf.fit(dataset_d1, y_valid)\n",
    "y_valid_pred2 = clf.predict(dataset_d1)\n",
    "C1=confusion_matrix(y_valid,y_valid_pred2)\n",
    "print(C1)\n",
    "print(metrics.classification_report(y_valid,y_valid_pred2))\n",
    "\n",
    "y_submission = clf.predict(dataset_d2)\n",
    "C2=confusion_matrix(y_test,y_submission)\n",
    "print(C2)\n",
    "print(metrics.classification_report(y_test,y_submission))\n",
    "\n",
    "y_scores=clf.predict_proba(dataset_d2)[:,1]\n",
    "      \n",
    "fpr,tpr,threshholds=roc_curve(y_test,y_scores)\n",
    "print(roc_auc_score(y_test,y_scores))\n",
    "def plot_roc_curve(fpr,tpr,label=None):\n",
    "    plt.plot(fpr,tpr,linewidth=2,label=label)\n",
    "    plt.plot([0,1],[0,1],'k--')\n",
    "    plt.axis([0,1,0,1])\n",
    "    plt.xlabel('False Positive Rate')\n",
    "    plt.ylabel('True Positive Rate')\n",
    "\n",
    "plot_roc_curve(fpr,tpr)\n",
    "plt.show()"
   ]
  },
  {
   "cell_type": "code",
   "execution_count": null,
   "metadata": {},
   "outputs": [],
   "source": []
  }
 ],
 "metadata": {
  "kernelspec": {
   "display_name": "Python 3",
   "language": "python",
   "name": "python3"
  },
  "language_info": {
   "codemirror_mode": {
    "name": "ipython",
    "version": 3
   },
   "file_extension": ".py",
   "mimetype": "text/x-python",
   "name": "python",
   "nbconvert_exporter": "python",
   "pygments_lexer": "ipython3",
   "version": "3.7.2"
  }
 },
 "nbformat": 4,
 "nbformat_minor": 2
}
